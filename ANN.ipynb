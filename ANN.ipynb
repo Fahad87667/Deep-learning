{
 "cells": [
  {
   "cell_type": "code",
   "execution_count": 34,
   "metadata": {},
   "outputs": [],
   "source": [
    "import pandas as pd\n",
    "import numpy as np"
   ]
  },
  {
   "cell_type": "code",
   "execution_count": 2,
   "metadata": {},
   "outputs": [],
   "source": [
    "data = pd.read_csv('Churn_Modelling.csv')"
   ]
  },
  {
   "cell_type": "code",
   "execution_count": 4,
   "metadata": {},
   "outputs": [
    {
     "data": {
      "text/html": [
       "<div>\n",
       "<style scoped>\n",
       "    .dataframe tbody tr th:only-of-type {\n",
       "        vertical-align: middle;\n",
       "    }\n",
       "\n",
       "    .dataframe tbody tr th {\n",
       "        vertical-align: top;\n",
       "    }\n",
       "\n",
       "    .dataframe thead th {\n",
       "        text-align: right;\n",
       "    }\n",
       "</style>\n",
       "<table border=\"1\" class=\"dataframe\">\n",
       "  <thead>\n",
       "    <tr style=\"text-align: right;\">\n",
       "      <th></th>\n",
       "      <th>RowNumber</th>\n",
       "      <th>CustomerId</th>\n",
       "      <th>Surname</th>\n",
       "      <th>CreditScore</th>\n",
       "      <th>Geography</th>\n",
       "      <th>Gender</th>\n",
       "      <th>Age</th>\n",
       "      <th>Tenure</th>\n",
       "      <th>Balance</th>\n",
       "      <th>NumOfProducts</th>\n",
       "      <th>HasCrCard</th>\n",
       "      <th>IsActiveMember</th>\n",
       "      <th>EstimatedSalary</th>\n",
       "      <th>Exited</th>\n",
       "    </tr>\n",
       "  </thead>\n",
       "  <tbody>\n",
       "    <tr>\n",
       "      <th>0</th>\n",
       "      <td>1</td>\n",
       "      <td>15634602</td>\n",
       "      <td>Hargrave</td>\n",
       "      <td>619</td>\n",
       "      <td>France</td>\n",
       "      <td>Female</td>\n",
       "      <td>42</td>\n",
       "      <td>2</td>\n",
       "      <td>0.00</td>\n",
       "      <td>1</td>\n",
       "      <td>1</td>\n",
       "      <td>1</td>\n",
       "      <td>101348.88</td>\n",
       "      <td>1</td>\n",
       "    </tr>\n",
       "    <tr>\n",
       "      <th>1</th>\n",
       "      <td>2</td>\n",
       "      <td>15647311</td>\n",
       "      <td>Hill</td>\n",
       "      <td>608</td>\n",
       "      <td>Spain</td>\n",
       "      <td>Female</td>\n",
       "      <td>41</td>\n",
       "      <td>1</td>\n",
       "      <td>83807.86</td>\n",
       "      <td>1</td>\n",
       "      <td>0</td>\n",
       "      <td>1</td>\n",
       "      <td>112542.58</td>\n",
       "      <td>0</td>\n",
       "    </tr>\n",
       "    <tr>\n",
       "      <th>2</th>\n",
       "      <td>3</td>\n",
       "      <td>15619304</td>\n",
       "      <td>Onio</td>\n",
       "      <td>502</td>\n",
       "      <td>France</td>\n",
       "      <td>Female</td>\n",
       "      <td>42</td>\n",
       "      <td>8</td>\n",
       "      <td>159660.80</td>\n",
       "      <td>3</td>\n",
       "      <td>1</td>\n",
       "      <td>0</td>\n",
       "      <td>113931.57</td>\n",
       "      <td>1</td>\n",
       "    </tr>\n",
       "    <tr>\n",
       "      <th>3</th>\n",
       "      <td>4</td>\n",
       "      <td>15701354</td>\n",
       "      <td>Boni</td>\n",
       "      <td>699</td>\n",
       "      <td>France</td>\n",
       "      <td>Female</td>\n",
       "      <td>39</td>\n",
       "      <td>1</td>\n",
       "      <td>0.00</td>\n",
       "      <td>2</td>\n",
       "      <td>0</td>\n",
       "      <td>0</td>\n",
       "      <td>93826.63</td>\n",
       "      <td>0</td>\n",
       "    </tr>\n",
       "    <tr>\n",
       "      <th>4</th>\n",
       "      <td>5</td>\n",
       "      <td>15737888</td>\n",
       "      <td>Mitchell</td>\n",
       "      <td>850</td>\n",
       "      <td>Spain</td>\n",
       "      <td>Female</td>\n",
       "      <td>43</td>\n",
       "      <td>2</td>\n",
       "      <td>125510.82</td>\n",
       "      <td>1</td>\n",
       "      <td>1</td>\n",
       "      <td>1</td>\n",
       "      <td>79084.10</td>\n",
       "      <td>0</td>\n",
       "    </tr>\n",
       "  </tbody>\n",
       "</table>\n",
       "</div>"
      ],
      "text/plain": [
       "   RowNumber  CustomerId   Surname  CreditScore Geography  Gender  Age  \\\n",
       "0          1    15634602  Hargrave          619    France  Female   42   \n",
       "1          2    15647311      Hill          608     Spain  Female   41   \n",
       "2          3    15619304      Onio          502    France  Female   42   \n",
       "3          4    15701354      Boni          699    France  Female   39   \n",
       "4          5    15737888  Mitchell          850     Spain  Female   43   \n",
       "\n",
       "   Tenure    Balance  NumOfProducts  HasCrCard  IsActiveMember  \\\n",
       "0       2       0.00              1          1               1   \n",
       "1       1   83807.86              1          0               1   \n",
       "2       8  159660.80              3          1               0   \n",
       "3       1       0.00              2          0               0   \n",
       "4       2  125510.82              1          1               1   \n",
       "\n",
       "   EstimatedSalary  Exited  \n",
       "0        101348.88       1  \n",
       "1        112542.58       0  \n",
       "2        113931.57       1  \n",
       "3         93826.63       0  \n",
       "4         79084.10       0  "
      ]
     },
     "execution_count": 4,
     "metadata": {},
     "output_type": "execute_result"
    }
   ],
   "source": [
    "data.head()"
   ]
  },
  {
   "cell_type": "code",
   "execution_count": 6,
   "metadata": {},
   "outputs": [
    {
     "name": "stdout",
     "output_type": "stream",
     "text": [
      "<class 'pandas.core.frame.DataFrame'>\n",
      "RangeIndex: 10000 entries, 0 to 9999\n",
      "Data columns (total 14 columns):\n",
      " #   Column           Non-Null Count  Dtype  \n",
      "---  ------           --------------  -----  \n",
      " 0   RowNumber        10000 non-null  int64  \n",
      " 1   CustomerId       10000 non-null  int64  \n",
      " 2   Surname          10000 non-null  object \n",
      " 3   CreditScore      10000 non-null  int64  \n",
      " 4   Geography        10000 non-null  object \n",
      " 5   Gender           10000 non-null  object \n",
      " 6   Age              10000 non-null  int64  \n",
      " 7   Tenure           10000 non-null  int64  \n",
      " 8   Balance          10000 non-null  float64\n",
      " 9   NumOfProducts    10000 non-null  int64  \n",
      " 10  HasCrCard        10000 non-null  int64  \n",
      " 11  IsActiveMember   10000 non-null  int64  \n",
      " 12  EstimatedSalary  10000 non-null  float64\n",
      " 13  Exited           10000 non-null  int64  \n",
      "dtypes: float64(2), int64(9), object(3)\n",
      "memory usage: 1.1+ MB\n"
     ]
    }
   ],
   "source": [
    "data.info()"
   ]
  },
  {
   "cell_type": "code",
   "execution_count": 8,
   "metadata": {},
   "outputs": [
    {
     "data": {
      "text/plain": [
       "0"
      ]
     },
     "execution_count": 8,
     "metadata": {},
     "output_type": "execute_result"
    }
   ],
   "source": [
    "data.duplicated().sum()"
   ]
  },
  {
   "cell_type": "code",
   "execution_count": 9,
   "metadata": {},
   "outputs": [
    {
     "data": {
      "text/plain": [
       "Exited\n",
       "0    7963\n",
       "1    2037\n",
       "Name: count, dtype: int64"
      ]
     },
     "execution_count": 9,
     "metadata": {},
     "output_type": "execute_result"
    }
   ],
   "source": [
    "data['Exited'].value_counts()"
   ]
  },
  {
   "cell_type": "code",
   "execution_count": 11,
   "metadata": {},
   "outputs": [],
   "source": [
    "data = data.drop(['RowNumber','Surname','CustomerId'], axis=1)"
   ]
  },
  {
   "cell_type": "code",
   "execution_count": 12,
   "metadata": {},
   "outputs": [
    {
     "data": {
      "text/html": [
       "<div>\n",
       "<style scoped>\n",
       "    .dataframe tbody tr th:only-of-type {\n",
       "        vertical-align: middle;\n",
       "    }\n",
       "\n",
       "    .dataframe tbody tr th {\n",
       "        vertical-align: top;\n",
       "    }\n",
       "\n",
       "    .dataframe thead th {\n",
       "        text-align: right;\n",
       "    }\n",
       "</style>\n",
       "<table border=\"1\" class=\"dataframe\">\n",
       "  <thead>\n",
       "    <tr style=\"text-align: right;\">\n",
       "      <th></th>\n",
       "      <th>CreditScore</th>\n",
       "      <th>Geography</th>\n",
       "      <th>Gender</th>\n",
       "      <th>Age</th>\n",
       "      <th>Tenure</th>\n",
       "      <th>Balance</th>\n",
       "      <th>NumOfProducts</th>\n",
       "      <th>HasCrCard</th>\n",
       "      <th>IsActiveMember</th>\n",
       "      <th>EstimatedSalary</th>\n",
       "      <th>Exited</th>\n",
       "    </tr>\n",
       "  </thead>\n",
       "  <tbody>\n",
       "    <tr>\n",
       "      <th>0</th>\n",
       "      <td>619</td>\n",
       "      <td>France</td>\n",
       "      <td>Female</td>\n",
       "      <td>42</td>\n",
       "      <td>2</td>\n",
       "      <td>0.00</td>\n",
       "      <td>1</td>\n",
       "      <td>1</td>\n",
       "      <td>1</td>\n",
       "      <td>101348.88</td>\n",
       "      <td>1</td>\n",
       "    </tr>\n",
       "    <tr>\n",
       "      <th>1</th>\n",
       "      <td>608</td>\n",
       "      <td>Spain</td>\n",
       "      <td>Female</td>\n",
       "      <td>41</td>\n",
       "      <td>1</td>\n",
       "      <td>83807.86</td>\n",
       "      <td>1</td>\n",
       "      <td>0</td>\n",
       "      <td>1</td>\n",
       "      <td>112542.58</td>\n",
       "      <td>0</td>\n",
       "    </tr>\n",
       "    <tr>\n",
       "      <th>2</th>\n",
       "      <td>502</td>\n",
       "      <td>France</td>\n",
       "      <td>Female</td>\n",
       "      <td>42</td>\n",
       "      <td>8</td>\n",
       "      <td>159660.80</td>\n",
       "      <td>3</td>\n",
       "      <td>1</td>\n",
       "      <td>0</td>\n",
       "      <td>113931.57</td>\n",
       "      <td>1</td>\n",
       "    </tr>\n",
       "    <tr>\n",
       "      <th>3</th>\n",
       "      <td>699</td>\n",
       "      <td>France</td>\n",
       "      <td>Female</td>\n",
       "      <td>39</td>\n",
       "      <td>1</td>\n",
       "      <td>0.00</td>\n",
       "      <td>2</td>\n",
       "      <td>0</td>\n",
       "      <td>0</td>\n",
       "      <td>93826.63</td>\n",
       "      <td>0</td>\n",
       "    </tr>\n",
       "    <tr>\n",
       "      <th>4</th>\n",
       "      <td>850</td>\n",
       "      <td>Spain</td>\n",
       "      <td>Female</td>\n",
       "      <td>43</td>\n",
       "      <td>2</td>\n",
       "      <td>125510.82</td>\n",
       "      <td>1</td>\n",
       "      <td>1</td>\n",
       "      <td>1</td>\n",
       "      <td>79084.10</td>\n",
       "      <td>0</td>\n",
       "    </tr>\n",
       "  </tbody>\n",
       "</table>\n",
       "</div>"
      ],
      "text/plain": [
       "   CreditScore Geography  Gender  Age  Tenure    Balance  NumOfProducts  \\\n",
       "0          619    France  Female   42       2       0.00              1   \n",
       "1          608     Spain  Female   41       1   83807.86              1   \n",
       "2          502    France  Female   42       8  159660.80              3   \n",
       "3          699    France  Female   39       1       0.00              2   \n",
       "4          850     Spain  Female   43       2  125510.82              1   \n",
       "\n",
       "   HasCrCard  IsActiveMember  EstimatedSalary  Exited  \n",
       "0          1               1        101348.88       1  \n",
       "1          0               1        112542.58       0  \n",
       "2          1               0        113931.57       1  \n",
       "3          0               0         93826.63       0  \n",
       "4          1               1         79084.10       0  "
      ]
     },
     "execution_count": 12,
     "metadata": {},
     "output_type": "execute_result"
    }
   ],
   "source": [
    "data.head()"
   ]
  },
  {
   "cell_type": "code",
   "execution_count": 13,
   "metadata": {},
   "outputs": [],
   "source": [
    "# cateforical values into numerical\n",
    "data = pd.get_dummies(data, columns=['Geography','Gender'],drop_first=True)"
   ]
  },
  {
   "cell_type": "code",
   "execution_count": 14,
   "metadata": {},
   "outputs": [
    {
     "data": {
      "text/html": [
       "<div>\n",
       "<style scoped>\n",
       "    .dataframe tbody tr th:only-of-type {\n",
       "        vertical-align: middle;\n",
       "    }\n",
       "\n",
       "    .dataframe tbody tr th {\n",
       "        vertical-align: top;\n",
       "    }\n",
       "\n",
       "    .dataframe thead th {\n",
       "        text-align: right;\n",
       "    }\n",
       "</style>\n",
       "<table border=\"1\" class=\"dataframe\">\n",
       "  <thead>\n",
       "    <tr style=\"text-align: right;\">\n",
       "      <th></th>\n",
       "      <th>CreditScore</th>\n",
       "      <th>Age</th>\n",
       "      <th>Tenure</th>\n",
       "      <th>Balance</th>\n",
       "      <th>NumOfProducts</th>\n",
       "      <th>HasCrCard</th>\n",
       "      <th>IsActiveMember</th>\n",
       "      <th>EstimatedSalary</th>\n",
       "      <th>Exited</th>\n",
       "      <th>Geography_Germany</th>\n",
       "      <th>Geography_Spain</th>\n",
       "      <th>Gender_Male</th>\n",
       "    </tr>\n",
       "  </thead>\n",
       "  <tbody>\n",
       "    <tr>\n",
       "      <th>0</th>\n",
       "      <td>619</td>\n",
       "      <td>42</td>\n",
       "      <td>2</td>\n",
       "      <td>0.00</td>\n",
       "      <td>1</td>\n",
       "      <td>1</td>\n",
       "      <td>1</td>\n",
       "      <td>101348.88</td>\n",
       "      <td>1</td>\n",
       "      <td>False</td>\n",
       "      <td>False</td>\n",
       "      <td>False</td>\n",
       "    </tr>\n",
       "    <tr>\n",
       "      <th>1</th>\n",
       "      <td>608</td>\n",
       "      <td>41</td>\n",
       "      <td>1</td>\n",
       "      <td>83807.86</td>\n",
       "      <td>1</td>\n",
       "      <td>0</td>\n",
       "      <td>1</td>\n",
       "      <td>112542.58</td>\n",
       "      <td>0</td>\n",
       "      <td>False</td>\n",
       "      <td>True</td>\n",
       "      <td>False</td>\n",
       "    </tr>\n",
       "    <tr>\n",
       "      <th>2</th>\n",
       "      <td>502</td>\n",
       "      <td>42</td>\n",
       "      <td>8</td>\n",
       "      <td>159660.80</td>\n",
       "      <td>3</td>\n",
       "      <td>1</td>\n",
       "      <td>0</td>\n",
       "      <td>113931.57</td>\n",
       "      <td>1</td>\n",
       "      <td>False</td>\n",
       "      <td>False</td>\n",
       "      <td>False</td>\n",
       "    </tr>\n",
       "    <tr>\n",
       "      <th>3</th>\n",
       "      <td>699</td>\n",
       "      <td>39</td>\n",
       "      <td>1</td>\n",
       "      <td>0.00</td>\n",
       "      <td>2</td>\n",
       "      <td>0</td>\n",
       "      <td>0</td>\n",
       "      <td>93826.63</td>\n",
       "      <td>0</td>\n",
       "      <td>False</td>\n",
       "      <td>False</td>\n",
       "      <td>False</td>\n",
       "    </tr>\n",
       "    <tr>\n",
       "      <th>4</th>\n",
       "      <td>850</td>\n",
       "      <td>43</td>\n",
       "      <td>2</td>\n",
       "      <td>125510.82</td>\n",
       "      <td>1</td>\n",
       "      <td>1</td>\n",
       "      <td>1</td>\n",
       "      <td>79084.10</td>\n",
       "      <td>0</td>\n",
       "      <td>False</td>\n",
       "      <td>True</td>\n",
       "      <td>False</td>\n",
       "    </tr>\n",
       "  </tbody>\n",
       "</table>\n",
       "</div>"
      ],
      "text/plain": [
       "   CreditScore  Age  Tenure    Balance  NumOfProducts  HasCrCard  \\\n",
       "0          619   42       2       0.00              1          1   \n",
       "1          608   41       1   83807.86              1          0   \n",
       "2          502   42       8  159660.80              3          1   \n",
       "3          699   39       1       0.00              2          0   \n",
       "4          850   43       2  125510.82              1          1   \n",
       "\n",
       "   IsActiveMember  EstimatedSalary  Exited  Geography_Germany  \\\n",
       "0               1        101348.88       1              False   \n",
       "1               1        112542.58       0              False   \n",
       "2               0        113931.57       1              False   \n",
       "3               0         93826.63       0              False   \n",
       "4               1         79084.10       0              False   \n",
       "\n",
       "   Geography_Spain  Gender_Male  \n",
       "0            False        False  \n",
       "1             True        False  \n",
       "2            False        False  \n",
       "3            False        False  \n",
       "4             True        False  "
      ]
     },
     "execution_count": 14,
     "metadata": {},
     "output_type": "execute_result"
    }
   ],
   "source": [
    "data.head()"
   ]
  },
  {
   "cell_type": "code",
   "execution_count": 16,
   "metadata": {},
   "outputs": [],
   "source": [
    "x = data.drop(['Exited'],axis=1)"
   ]
  },
  {
   "cell_type": "code",
   "execution_count": 18,
   "metadata": {},
   "outputs": [],
   "source": [
    "y = data['Exited']"
   ]
  },
  {
   "cell_type": "code",
   "execution_count": 19,
   "metadata": {},
   "outputs": [],
   "source": [
    "from sklearn.model_selection import train_test_split\n",
    "x_train,x_test,y_train,y_test = train_test_split(x,y,random_state=1,test_size=0.2)"
   ]
  },
  {
   "cell_type": "code",
   "execution_count": 20,
   "metadata": {},
   "outputs": [],
   "source": [
    "from sklearn.preprocessing import StandardScaler\n",
    "scaler = StandardScaler()\n",
    "\n",
    "x_train_scaled = scaler.fit_transform(x_train)\n",
    "x_test_scaled = scaler.transform(x_test)"
   ]
  },
  {
   "cell_type": "code",
   "execution_count": 21,
   "metadata": {},
   "outputs": [],
   "source": [
    "import tensorflow\n",
    "from tensorflow import keras\n",
    "from keras import Sequential\n",
    "from keras.layers import Dense"
   ]
  },
  {
   "cell_type": "code",
   "execution_count": 22,
   "metadata": {},
   "outputs": [
    {
     "name": "stdout",
     "output_type": "stream",
     "text": [
      "WARNING:tensorflow:From c:\\Users\\HP\\AppData\\Local\\Programs\\Python\\Python311\\Lib\\site-packages\\keras\\src\\backend.py:873: The name tf.get_default_graph is deprecated. Please use tf.compat.v1.get_default_graph instead.\n",
      "\n"
     ]
    }
   ],
   "source": [
    "model = Sequential()\n",
    "model.add(Dense(3,activation='sigmoid', input_dim =11))\n",
    "model.add(Dense(1,activation='sigmoid'))"
   ]
  },
  {
   "cell_type": "code",
   "execution_count": 24,
   "metadata": {},
   "outputs": [
    {
     "name": "stdout",
     "output_type": "stream",
     "text": [
      "Model: \"sequential\"\n",
      "_________________________________________________________________\n",
      " Layer (type)                Output Shape              Param #   \n",
      "=================================================================\n",
      " dense (Dense)               (None, 3)                 36        \n",
      "                                                                 \n",
      " dense_1 (Dense)             (None, 1)                 4         \n",
      "                                                                 \n",
      "=================================================================\n",
      "Total params: 40 (160.00 Byte)\n",
      "Trainable params: 40 (160.00 Byte)\n",
      "Non-trainable params: 0 (0.00 Byte)\n",
      "_________________________________________________________________\n"
     ]
    }
   ],
   "source": [
    "model.summary()"
   ]
  },
  {
   "cell_type": "code",
   "execution_count": 28,
   "metadata": {},
   "outputs": [],
   "source": [
    "model.compile(loss='binary_crossentropy', optimizer='Adam', metrics=['accuracy'])"
   ]
  },
  {
   "cell_type": "markdown",
   "metadata": {},
   "source": [
    "### WE can increase epochs for better training"
   ]
  },
  {
   "cell_type": "code",
   "execution_count": 38,
   "metadata": {},
   "outputs": [
    {
     "name": "stdout",
     "output_type": "stream",
     "text": [
      "Epoch 1/100\n",
      "250/250 [==============================] - 2s 7ms/step - loss: 0.4286\n",
      "Epoch 2/100\n",
      "250/250 [==============================] - 2s 8ms/step - loss: 0.4272\n",
      "Epoch 3/100\n",
      "250/250 [==============================] - 2s 7ms/step - loss: 0.4258\n",
      "Epoch 4/100\n",
      "250/250 [==============================] - 2s 6ms/step - loss: 0.4247\n",
      "Epoch 5/100\n",
      "250/250 [==============================] - 2s 7ms/step - loss: 0.4234\n",
      "Epoch 6/100\n",
      "250/250 [==============================] - 2s 6ms/step - loss: 0.4224\n",
      "Epoch 7/100\n",
      "250/250 [==============================] - 2s 10ms/step - loss: 0.4213\n",
      "Epoch 8/100\n",
      "250/250 [==============================] - 2s 6ms/step - loss: 0.4202\n",
      "Epoch 9/100\n",
      "250/250 [==============================] - 2s 9ms/step - loss: 0.4192\n",
      "Epoch 10/100\n",
      "250/250 [==============================] - 2s 8ms/step - loss: 0.4184\n",
      "Epoch 11/100\n",
      "250/250 [==============================] - 2s 7ms/step - loss: 0.4176\n",
      "Epoch 12/100\n",
      "250/250 [==============================] - 2s 6ms/step - loss: 0.4169\n",
      "Epoch 13/100\n",
      "250/250 [==============================] - 2s 6ms/step - loss: 0.4162\n",
      "Epoch 14/100\n",
      "250/250 [==============================] - 3s 13ms/step - loss: 0.4156\n",
      "Epoch 15/100\n",
      "250/250 [==============================] - 9s 36ms/step - loss: 0.4150\n",
      "Epoch 16/100\n",
      "250/250 [==============================] - 9s 36ms/step - loss: 0.4145\n",
      "Epoch 17/100\n",
      "250/250 [==============================] - 9s 36ms/step - loss: 0.4140\n",
      "Epoch 18/100\n",
      "250/250 [==============================] - 8s 33ms/step - loss: 0.4135\n",
      "Epoch 19/100\n",
      "250/250 [==============================] - 9s 38ms/step - loss: 0.4131\n",
      "Epoch 20/100\n",
      "250/250 [==============================] - 8s 33ms/step - loss: 0.4127\n",
      "Epoch 21/100\n",
      "250/250 [==============================] - 9s 38ms/step - loss: 0.4123\n",
      "Epoch 22/100\n",
      "250/250 [==============================] - 9s 35ms/step - loss: 0.4119\n",
      "Epoch 23/100\n",
      "250/250 [==============================] - 10s 40ms/step - loss: 0.4115\n",
      "Epoch 24/100\n",
      "250/250 [==============================] - 9s 36ms/step - loss: 0.4112\n",
      "Epoch 25/100\n",
      "250/250 [==============================] - 10s 38ms/step - loss: 0.4109\n",
      "Epoch 26/100\n",
      "250/250 [==============================] - 9s 36ms/step - loss: 0.4106\n",
      "Epoch 27/100\n",
      "250/250 [==============================] - 10s 38ms/step - loss: 0.4104\n",
      "Epoch 28/100\n",
      "250/250 [==============================] - 10s 41ms/step - loss: 0.4101\n",
      "Epoch 29/100\n",
      "250/250 [==============================] - 9s 37ms/step - loss: 0.4098\n",
      "Epoch 30/100\n",
      "250/250 [==============================] - 11s 42ms/step - loss: 0.4096\n",
      "Epoch 31/100\n",
      "250/250 [==============================] - 9s 35ms/step - loss: 0.4093\n",
      "Epoch 32/100\n",
      "250/250 [==============================] - 9s 37ms/step - loss: 0.4092\n",
      "Epoch 33/100\n",
      "250/250 [==============================] - 10s 41ms/step - loss: 0.4090\n",
      "Epoch 34/100\n",
      "250/250 [==============================] - 10s 39ms/step - loss: 0.4088\n",
      "Epoch 35/100\n",
      "250/250 [==============================] - 8s 31ms/step - loss: 0.4086\n",
      "Epoch 36/100\n",
      "250/250 [==============================] - 10s 39ms/step - loss: 0.4084\n",
      "Epoch 37/100\n",
      "250/250 [==============================] - 8s 33ms/step - loss: 0.4083\n",
      "Epoch 38/100\n",
      "250/250 [==============================] - 5s 20ms/step - loss: 0.4082\n",
      "Epoch 39/100\n",
      "250/250 [==============================] - 3s 11ms/step - loss: 0.4080\n",
      "Epoch 40/100\n",
      "250/250 [==============================] - 3s 12ms/step - loss: 0.4079\n",
      "Epoch 41/100\n",
      "250/250 [==============================] - 3s 14ms/step - loss: 0.4078\n",
      "Epoch 42/100\n",
      "250/250 [==============================] - 3s 13ms/step - loss: 0.4076\n",
      "Epoch 43/100\n",
      "250/250 [==============================] - 2s 9ms/step - loss: 0.4076\n",
      "Epoch 44/100\n",
      "250/250 [==============================] - 4s 15ms/step - loss: 0.4074\n",
      "Epoch 45/100\n",
      "250/250 [==============================] - 6s 25ms/step - loss: 0.4074\n",
      "Epoch 46/100\n",
      "250/250 [==============================] - 4s 15ms/step - loss: 0.4072\n",
      "Epoch 47/100\n",
      "250/250 [==============================] - 2s 8ms/step - loss: 0.4071\n",
      "Epoch 48/100\n",
      "250/250 [==============================] - 2s 7ms/step - loss: 0.4070\n",
      "Epoch 49/100\n",
      "250/250 [==============================] - 4s 14ms/step - loss: 0.4070\n",
      "Epoch 50/100\n",
      "250/250 [==============================] - 3s 12ms/step - loss: 0.4069\n",
      "Epoch 51/100\n",
      "250/250 [==============================] - 3s 13ms/step - loss: 0.4068\n",
      "Epoch 52/100\n",
      "250/250 [==============================] - 4s 14ms/step - loss: 0.4067\n",
      "Epoch 53/100\n",
      "250/250 [==============================] - 3s 13ms/step - loss: 0.4066\n",
      "Epoch 54/100\n",
      "250/250 [==============================] - 5s 21ms/step - loss: 0.4066\n",
      "Epoch 55/100\n",
      "250/250 [==============================] - 5s 20ms/step - loss: 0.4065\n",
      "Epoch 56/100\n",
      "250/250 [==============================] - 7s 26ms/step - loss: 0.4064\n",
      "Epoch 57/100\n",
      "250/250 [==============================] - 7s 28ms/step - loss: 0.4064\n",
      "Epoch 58/100\n",
      "250/250 [==============================] - 9s 37ms/step - loss: 0.4064\n",
      "Epoch 59/100\n",
      "250/250 [==============================] - 10s 40ms/step - loss: 0.4063\n",
      "Epoch 60/100\n",
      "250/250 [==============================] - 10s 38ms/step - loss: 0.4062\n",
      "Epoch 61/100\n",
      "250/250 [==============================] - 5s 22ms/step - loss: 0.4061\n",
      "Epoch 62/100\n",
      "250/250 [==============================] - 6s 23ms/step - loss: 0.4061\n",
      "Epoch 63/100\n",
      "250/250 [==============================] - 9s 34ms/step - loss: 0.4060\n",
      "Epoch 64/100\n",
      "250/250 [==============================] - 9s 37ms/step - loss: 0.4060\n",
      "Epoch 65/100\n",
      "250/250 [==============================] - 9s 36ms/step - loss: 0.4060\n",
      "Epoch 66/100\n",
      "250/250 [==============================] - 6s 26ms/step - loss: 0.4059\n",
      "Epoch 67/100\n",
      "250/250 [==============================] - 6s 23ms/step - loss: 0.4058\n",
      "Epoch 68/100\n",
      "250/250 [==============================] - 7s 28ms/step - loss: 0.4057\n",
      "Epoch 69/100\n",
      "250/250 [==============================] - 11s 45ms/step - loss: 0.4057\n",
      "Epoch 70/100\n",
      "250/250 [==============================] - 9s 35ms/step - loss: 0.4057\n",
      "Epoch 71/100\n",
      "250/250 [==============================] - 11s 42ms/step - loss: 0.4056\n",
      "Epoch 72/100\n",
      "250/250 [==============================] - 6s 22ms/step - loss: 0.4056\n",
      "Epoch 73/100\n",
      "250/250 [==============================] - 6s 24ms/step - loss: 0.4055\n",
      "Epoch 74/100\n",
      "250/250 [==============================] - 6s 25ms/step - loss: 0.4055\n",
      "Epoch 75/100\n",
      "250/250 [==============================] - 5s 20ms/step - loss: 0.4055\n",
      "Epoch 76/100\n",
      "250/250 [==============================] - 8s 32ms/step - loss: 0.4054\n",
      "Epoch 77/100\n",
      "250/250 [==============================] - 11s 43ms/step - loss: 0.4054\n",
      "Epoch 78/100\n",
      "250/250 [==============================] - 10s 41ms/step - loss: 0.4053\n",
      "Epoch 79/100\n",
      "250/250 [==============================] - 7s 30ms/step - loss: 0.4053\n",
      "Epoch 80/100\n",
      "250/250 [==============================] - 6s 25ms/step - loss: 0.4052\n",
      "Epoch 81/100\n",
      "250/250 [==============================] - 7s 28ms/step - loss: 0.4053\n",
      "Epoch 82/100\n",
      "250/250 [==============================] - 7s 30ms/step - loss: 0.4052\n",
      "Epoch 83/100\n",
      "250/250 [==============================] - 7s 26ms/step - loss: 0.4051\n",
      "Epoch 84/100\n",
      "250/250 [==============================] - 4s 16ms/step - loss: 0.4051\n",
      "Epoch 85/100\n",
      "250/250 [==============================] - 3s 11ms/step - loss: 0.4051\n",
      "Epoch 86/100\n",
      "250/250 [==============================] - 2s 9ms/step - loss: 0.4051\n",
      "Epoch 87/100\n",
      "250/250 [==============================] - 3s 11ms/step - loss: 0.4050\n",
      "Epoch 88/100\n",
      "250/250 [==============================] - 3s 11ms/step - loss: 0.4050\n",
      "Epoch 89/100\n",
      "250/250 [==============================] - 5s 18ms/step - loss: 0.4049\n",
      "Epoch 90/100\n",
      "250/250 [==============================] - 6s 23ms/step - loss: 0.4049\n",
      "Epoch 91/100\n",
      "250/250 [==============================] - 5s 19ms/step - loss: 0.4048\n",
      "Epoch 92/100\n",
      "250/250 [==============================] - 6s 25ms/step - loss: 0.4048\n",
      "Epoch 93/100\n",
      "250/250 [==============================] - 7s 28ms/step - loss: 0.4049\n",
      "Epoch 94/100\n",
      "250/250 [==============================] - 7s 28ms/step - loss: 0.4048\n",
      "Epoch 95/100\n",
      "250/250 [==============================] - 5s 22ms/step - loss: 0.4048\n",
      "Epoch 96/100\n",
      "250/250 [==============================] - 6s 26ms/step - loss: 0.4047\n",
      "Epoch 97/100\n",
      "250/250 [==============================] - 5s 19ms/step - loss: 0.4046\n",
      "Epoch 98/100\n",
      "250/250 [==============================] - 7s 28ms/step - loss: 0.4047\n",
      "Epoch 99/100\n",
      "250/250 [==============================] - 7s 28ms/step - loss: 0.4046\n",
      "Epoch 100/100\n",
      "250/250 [==============================] - 7s 29ms/step - loss: 0.4046\n"
     ]
    },
    {
     "data": {
      "text/plain": [
       "<keras.src.callbacks.History at 0x237d244b990>"
      ]
     },
     "execution_count": 38,
     "metadata": {},
     "output_type": "execute_result"
    }
   ],
   "source": [
    "model.fit(x_train_scaled,y_train,epochs=100)"
   ]
  },
  {
   "cell_type": "code",
   "execution_count": 39,
   "metadata": {},
   "outputs": [
    {
     "data": {
      "text/plain": [
       "[array([[-1.8150435e-01, -1.5349320e-01,  1.5860195e-01],\n",
       "        [ 1.3703954e+00, -1.8609097e-02, -3.6934993e+00],\n",
       "        [-9.6115708e-02,  2.6358673e-03, -6.7990960e-04],\n",
       "        [ 7.5652313e-01, -4.7603032e-01,  1.9514860e-01],\n",
       "        [ 3.5673775e-02,  3.0212158e-01, -4.0668722e-02],\n",
       "        [-4.8221982e-01, -1.4152539e-01, -1.6679652e-01],\n",
       "        [ 3.4267887e-01,  2.8475997e+00, -1.2631937e+00],\n",
       "        [ 3.0914286e-01, -1.0866912e-01,  1.4003360e-01],\n",
       "        [ 8.8089997e-01, -1.0743698e+00, -5.6317102e-02],\n",
       "        [-1.3957784e-01, -1.9017813e-01, -9.9973895e-02],\n",
       "        [-9.8630601e-01,  6.1048979e-01, -1.0237273e-01]], dtype=float32),\n",
       " array([0.35945863, 0.43397546, 0.33969203], dtype=float32)]"
      ]
     },
     "execution_count": 39,
     "metadata": {},
     "output_type": "execute_result"
    }
   ],
   "source": [
    "model.layers[0].get_weights()"
   ]
  },
  {
   "cell_type": "code",
   "execution_count": 40,
   "metadata": {},
   "outputs": [
    {
     "name": "stdout",
     "output_type": "stream",
     "text": [
      "63/63 [==============================] - 3s 18ms/step\n"
     ]
    }
   ],
   "source": [
    "y_log=model.predict(x_test_scaled)"
   ]
  },
  {
   "cell_type": "code",
   "execution_count": 41,
   "metadata": {},
   "outputs": [],
   "source": [
    "y_pred = np.where(y_log>0.5,1,0)"
   ]
  },
  {
   "cell_type": "code",
   "execution_count": 42,
   "metadata": {},
   "outputs": [
    {
     "data": {
      "text/plain": [
       "array([[0],\n",
       "       [0],\n",
       "       [0],\n",
       "       ...,\n",
       "       [0],\n",
       "       [0],\n",
       "       [0]])"
      ]
     },
     "execution_count": 42,
     "metadata": {},
     "output_type": "execute_result"
    }
   ],
   "source": [
    "y_pred"
   ]
  },
  {
   "cell_type": "code",
   "execution_count": 45,
   "metadata": {},
   "outputs": [
    {
     "data": {
      "text/plain": [
       "83.25"
      ]
     },
     "execution_count": 45,
     "metadata": {},
     "output_type": "execute_result"
    }
   ],
   "source": [
    "from sklearn.metrics import accuracy_score\n",
    "accuracy_score(y_test,y_pred)*100"
   ]
  },
  {
   "cell_type": "code",
   "execution_count": null,
   "metadata": {},
   "outputs": [],
   "source": []
  }
 ],
 "metadata": {
  "kernelspec": {
   "display_name": "Python 3",
   "language": "python",
   "name": "python3"
  },
  "language_info": {
   "codemirror_mode": {
    "name": "ipython",
    "version": 3
   },
   "file_extension": ".py",
   "mimetype": "text/x-python",
   "name": "python",
   "nbconvert_exporter": "python",
   "pygments_lexer": "ipython3",
   "version": "3.11.0"
  }
 },
 "nbformat": 4,
 "nbformat_minor": 2
}
