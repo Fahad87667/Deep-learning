{
  "cells": [
    {
      "cell_type": "code",
      "execution_count": 1,
      "metadata": {
        "id": "XdEbEwKg7BTo"
      },
      "outputs": [],
      "source": [
        "import pandas as pd\n",
        "import numpy as np"
      ]
    },
    {
      "cell_type": "code",
      "execution_count": 2,
      "metadata": {
        "id": "ZWRK5Jc57tjr"
      },
      "outputs": [],
      "source": [
        "df = pd.read_csv('Admission_Predict.csv')"
      ]
    },
    {
      "cell_type": "code",
      "execution_count": 3,
      "metadata": {
        "colab": {
          "base_uri": "https://localhost:8080/",
          "height": 206
        },
        "id": "bTshRtFr70qp",
        "outputId": "4bd01bf3-bf7d-4b05-95e9-7f38bd76a2b6"
      },
      "outputs": [
        {
          "data": {
            "text/html": [
              "<div>\n",
              "<style scoped>\n",
              "    .dataframe tbody tr th:only-of-type {\n",
              "        vertical-align: middle;\n",
              "    }\n",
              "\n",
              "    .dataframe tbody tr th {\n",
              "        vertical-align: top;\n",
              "    }\n",
              "\n",
              "    .dataframe thead th {\n",
              "        text-align: right;\n",
              "    }\n",
              "</style>\n",
              "<table border=\"1\" class=\"dataframe\">\n",
              "  <thead>\n",
              "    <tr style=\"text-align: right;\">\n",
              "      <th></th>\n",
              "      <th>Serial No.</th>\n",
              "      <th>GRE Score</th>\n",
              "      <th>TOEFL Score</th>\n",
              "      <th>University Rating</th>\n",
              "      <th>SOP</th>\n",
              "      <th>LOR</th>\n",
              "      <th>CGPA</th>\n",
              "      <th>Research</th>\n",
              "      <th>Chance of Admit</th>\n",
              "    </tr>\n",
              "  </thead>\n",
              "  <tbody>\n",
              "    <tr>\n",
              "      <th>0</th>\n",
              "      <td>1</td>\n",
              "      <td>337</td>\n",
              "      <td>118</td>\n",
              "      <td>4</td>\n",
              "      <td>4.5</td>\n",
              "      <td>4.5</td>\n",
              "      <td>9.65</td>\n",
              "      <td>1</td>\n",
              "      <td>0.92</td>\n",
              "    </tr>\n",
              "    <tr>\n",
              "      <th>1</th>\n",
              "      <td>2</td>\n",
              "      <td>324</td>\n",
              "      <td>107</td>\n",
              "      <td>4</td>\n",
              "      <td>4.0</td>\n",
              "      <td>4.5</td>\n",
              "      <td>8.87</td>\n",
              "      <td>1</td>\n",
              "      <td>0.76</td>\n",
              "    </tr>\n",
              "    <tr>\n",
              "      <th>2</th>\n",
              "      <td>3</td>\n",
              "      <td>316</td>\n",
              "      <td>104</td>\n",
              "      <td>3</td>\n",
              "      <td>3.0</td>\n",
              "      <td>3.5</td>\n",
              "      <td>8.00</td>\n",
              "      <td>1</td>\n",
              "      <td>0.72</td>\n",
              "    </tr>\n",
              "    <tr>\n",
              "      <th>3</th>\n",
              "      <td>4</td>\n",
              "      <td>322</td>\n",
              "      <td>110</td>\n",
              "      <td>3</td>\n",
              "      <td>3.5</td>\n",
              "      <td>2.5</td>\n",
              "      <td>8.67</td>\n",
              "      <td>1</td>\n",
              "      <td>0.80</td>\n",
              "    </tr>\n",
              "    <tr>\n",
              "      <th>4</th>\n",
              "      <td>5</td>\n",
              "      <td>314</td>\n",
              "      <td>103</td>\n",
              "      <td>2</td>\n",
              "      <td>2.0</td>\n",
              "      <td>3.0</td>\n",
              "      <td>8.21</td>\n",
              "      <td>0</td>\n",
              "      <td>0.65</td>\n",
              "    </tr>\n",
              "  </tbody>\n",
              "</table>\n",
              "</div>"
            ],
            "text/plain": [
              "   Serial No.  GRE Score  TOEFL Score  University Rating  SOP  LOR   CGPA  \\\n",
              "0           1        337          118                  4  4.5   4.5  9.65   \n",
              "1           2        324          107                  4  4.0   4.5  8.87   \n",
              "2           3        316          104                  3  3.0   3.5  8.00   \n",
              "3           4        322          110                  3  3.5   2.5  8.67   \n",
              "4           5        314          103                  2  2.0   3.0  8.21   \n",
              "\n",
              "   Research  Chance of Admit   \n",
              "0         1              0.92  \n",
              "1         1              0.76  \n",
              "2         1              0.72  \n",
              "3         1              0.80  \n",
              "4         0              0.65  "
            ]
          },
          "execution_count": 3,
          "metadata": {},
          "output_type": "execute_result"
        }
      ],
      "source": [
        "df.head()"
      ]
    },
    {
      "cell_type": "code",
      "execution_count": 4,
      "metadata": {
        "colab": {
          "base_uri": "https://localhost:8080/"
        },
        "id": "lkM2PWZH72QO",
        "outputId": "b6bb3480-d3d0-4c07-a1a9-de87b6a80d56"
      },
      "outputs": [
        {
          "data": {
            "text/plain": [
              "(400, 9)"
            ]
          },
          "execution_count": 4,
          "metadata": {},
          "output_type": "execute_result"
        }
      ],
      "source": [
        "df.shape"
      ]
    },
    {
      "cell_type": "code",
      "execution_count": 5,
      "metadata": {
        "colab": {
          "base_uri": "https://localhost:8080/"
        },
        "id": "yT5xks4y74bK",
        "outputId": "fa4bfae6-e105-4fc2-a500-a58ac20134ee"
      },
      "outputs": [
        {
          "data": {
            "text/plain": [
              "Serial No.           0\n",
              "GRE Score            0\n",
              "TOEFL Score          0\n",
              "University Rating    0\n",
              "SOP                  0\n",
              "LOR                  0\n",
              "CGPA                 0\n",
              "Research             0\n",
              "Chance of Admit      0\n",
              "dtype: int64"
            ]
          },
          "execution_count": 5,
          "metadata": {},
          "output_type": "execute_result"
        }
      ],
      "source": [
        "df.isnull().sum()"
      ]
    },
    {
      "cell_type": "code",
      "execution_count": 6,
      "metadata": {
        "colab": {
          "base_uri": "https://localhost:8080/"
        },
        "id": "ScG4zP2D8Kba",
        "outputId": "9ce40400-9df0-4607-ea1a-e82452d8abf7"
      },
      "outputs": [
        {
          "data": {
            "text/plain": [
              "0"
            ]
          },
          "execution_count": 6,
          "metadata": {},
          "output_type": "execute_result"
        }
      ],
      "source": [
        "df.duplicated().sum()"
      ]
    },
    {
      "cell_type": "code",
      "execution_count": 7,
      "metadata": {
        "colab": {
          "base_uri": "https://localhost:8080/"
        },
        "id": "c910NI1G8Ngz",
        "outputId": "25a26257-461a-4287-9303-d822aa58ad53"
      },
      "outputs": [
        {
          "data": {
            "text/plain": [
              "Serial No.           0\n",
              "GRE Score            0\n",
              "TOEFL Score          0\n",
              "University Rating    0\n",
              "SOP                  0\n",
              "LOR                  0\n",
              "CGPA                 0\n",
              "Research             0\n",
              "Chance of Admit      0\n",
              "dtype: int64"
            ]
          },
          "execution_count": 7,
          "metadata": {},
          "output_type": "execute_result"
        }
      ],
      "source": [
        "df.isnull().sum()"
      ]
    },
    {
      "cell_type": "code",
      "execution_count": 8,
      "metadata": {
        "id": "x-bdMnlRMiSq"
      },
      "outputs": [],
      "source": [
        "x = df.iloc[:,0:-1]"
      ]
    },
    {
      "cell_type": "code",
      "execution_count": 9,
      "metadata": {
        "id": "uyDWSS-yOKJy"
      },
      "outputs": [],
      "source": [
        "y = df.iloc[:,-1]"
      ]
    },
    {
      "cell_type": "code",
      "execution_count": 10,
      "metadata": {
        "colab": {
          "base_uri": "https://localhost:8080/",
          "height": 206
        },
        "id": "bNPlnPdOONk8",
        "outputId": "75e3349e-4190-40b8-aa2f-81ab25ad3209"
      },
      "outputs": [
        {
          "data": {
            "text/html": [
              "<div>\n",
              "<style scoped>\n",
              "    .dataframe tbody tr th:only-of-type {\n",
              "        vertical-align: middle;\n",
              "    }\n",
              "\n",
              "    .dataframe tbody tr th {\n",
              "        vertical-align: top;\n",
              "    }\n",
              "\n",
              "    .dataframe thead th {\n",
              "        text-align: right;\n",
              "    }\n",
              "</style>\n",
              "<table border=\"1\" class=\"dataframe\">\n",
              "  <thead>\n",
              "    <tr style=\"text-align: right;\">\n",
              "      <th></th>\n",
              "      <th>Serial No.</th>\n",
              "      <th>GRE Score</th>\n",
              "      <th>TOEFL Score</th>\n",
              "      <th>University Rating</th>\n",
              "      <th>SOP</th>\n",
              "      <th>LOR</th>\n",
              "      <th>CGPA</th>\n",
              "      <th>Research</th>\n",
              "    </tr>\n",
              "  </thead>\n",
              "  <tbody>\n",
              "    <tr>\n",
              "      <th>0</th>\n",
              "      <td>1</td>\n",
              "      <td>337</td>\n",
              "      <td>118</td>\n",
              "      <td>4</td>\n",
              "      <td>4.5</td>\n",
              "      <td>4.5</td>\n",
              "      <td>9.65</td>\n",
              "      <td>1</td>\n",
              "    </tr>\n",
              "    <tr>\n",
              "      <th>1</th>\n",
              "      <td>2</td>\n",
              "      <td>324</td>\n",
              "      <td>107</td>\n",
              "      <td>4</td>\n",
              "      <td>4.0</td>\n",
              "      <td>4.5</td>\n",
              "      <td>8.87</td>\n",
              "      <td>1</td>\n",
              "    </tr>\n",
              "    <tr>\n",
              "      <th>2</th>\n",
              "      <td>3</td>\n",
              "      <td>316</td>\n",
              "      <td>104</td>\n",
              "      <td>3</td>\n",
              "      <td>3.0</td>\n",
              "      <td>3.5</td>\n",
              "      <td>8.00</td>\n",
              "      <td>1</td>\n",
              "    </tr>\n",
              "    <tr>\n",
              "      <th>3</th>\n",
              "      <td>4</td>\n",
              "      <td>322</td>\n",
              "      <td>110</td>\n",
              "      <td>3</td>\n",
              "      <td>3.5</td>\n",
              "      <td>2.5</td>\n",
              "      <td>8.67</td>\n",
              "      <td>1</td>\n",
              "    </tr>\n",
              "    <tr>\n",
              "      <th>4</th>\n",
              "      <td>5</td>\n",
              "      <td>314</td>\n",
              "      <td>103</td>\n",
              "      <td>2</td>\n",
              "      <td>2.0</td>\n",
              "      <td>3.0</td>\n",
              "      <td>8.21</td>\n",
              "      <td>0</td>\n",
              "    </tr>\n",
              "  </tbody>\n",
              "</table>\n",
              "</div>"
            ],
            "text/plain": [
              "   Serial No.  GRE Score  TOEFL Score  University Rating  SOP  LOR   CGPA  \\\n",
              "0           1        337          118                  4  4.5   4.5  9.65   \n",
              "1           2        324          107                  4  4.0   4.5  8.87   \n",
              "2           3        316          104                  3  3.0   3.5  8.00   \n",
              "3           4        322          110                  3  3.5   2.5  8.67   \n",
              "4           5        314          103                  2  2.0   3.0  8.21   \n",
              "\n",
              "   Research  \n",
              "0         1  \n",
              "1         1  \n",
              "2         1  \n",
              "3         1  \n",
              "4         0  "
            ]
          },
          "execution_count": 10,
          "metadata": {},
          "output_type": "execute_result"
        }
      ],
      "source": [
        "x.head()"
      ]
    },
    {
      "cell_type": "code",
      "execution_count": 11,
      "metadata": {
        "colab": {
          "base_uri": "https://localhost:8080/"
        },
        "id": "yFDH8LwxOO0T",
        "outputId": "91cf95b9-6b11-406d-c628-d28edc20c43a"
      },
      "outputs": [
        {
          "data": {
            "text/plain": [
              "0    0.92\n",
              "1    0.76\n",
              "2    0.72\n",
              "3    0.80\n",
              "4    0.65\n",
              "Name: Chance of Admit , dtype: float64"
            ]
          },
          "execution_count": 11,
          "metadata": {},
          "output_type": "execute_result"
        }
      ],
      "source": [
        "y.head()"
      ]
    },
    {
      "cell_type": "code",
      "execution_count": 12,
      "metadata": {
        "id": "K4w6sgLMOQum"
      },
      "outputs": [],
      "source": [
        "from sklearn.model_selection import train_test_split\n",
        "x_train,x_test,y_train,y_test = train_test_split(x,y,test_size=0.2,random_state=21)"
      ]
    },
    {
      "cell_type": "code",
      "execution_count": 13,
      "metadata": {
        "id": "qW8eoAvUPIhJ"
      },
      "outputs": [],
      "source": [
        "from sklearn.preprocessing import MinMaxScaler\n",
        "scaler= MinMaxScaler()"
      ]
    },
    {
      "cell_type": "code",
      "execution_count": 14,
      "metadata": {
        "id": "Z6NW51vwPSMG"
      },
      "outputs": [],
      "source": [
        "x_train_scaled = scaler.fit_transform(x_train)\n",
        "x_test_scaled = scaler.transform(x_test)"
      ]
    },
    {
      "cell_type": "code",
      "execution_count": 15,
      "metadata": {
        "colab": {
          "base_uri": "https://localhost:8080/"
        },
        "id": "hzy9RwaePfgT",
        "outputId": "1c242c2b-5da8-4363-97f8-3a232f802368"
      },
      "outputs": [
        {
          "data": {
            "text/plain": [
              "array([[0.47869674, 0.66      , 0.64285714, ..., 1.        , 0.69871795,\n",
              "        1.        ],\n",
              "       [0.69674185, 0.36      , 0.39285714, ..., 0.57142857, 0.54166667,\n",
              "        0.        ],\n",
              "       [0.68170426, 0.08      , 0.10714286, ..., 0.        , 0.26923077,\n",
              "        0.        ],\n",
              "       ...,\n",
              "       [0.65162907, 0.74      , 0.57142857, ..., 0.57142857, 0.74679487,\n",
              "        1.        ],\n",
              "       [0.78195489, 0.42      , 0.53571429, ..., 0.85714286, 0.70512821,\n",
              "        1.        ],\n",
              "       [0.51879699, 0.4       , 0.35714286, ..., 0.71428571, 0.39102564,\n",
              "        1.        ]])"
            ]
          },
          "execution_count": 15,
          "metadata": {},
          "output_type": "execute_result"
        }
      ],
      "source": [
        "x_train_scaled"
      ]
    },
    {
      "cell_type": "code",
      "execution_count": 16,
      "metadata": {
        "id": "yKLHPbzYPhPg"
      },
      "outputs": [
        {
          "name": "stdout",
          "output_type": "stream",
          "text": [
            "WARNING:tensorflow:From c:\\Users\\HP\\AppData\\Local\\Programs\\Python\\Python311\\Lib\\site-packages\\keras\\src\\losses.py:2976: The name tf.losses.sparse_softmax_cross_entropy is deprecated. Please use tf.compat.v1.losses.sparse_softmax_cross_entropy instead.\n",
            "\n"
          ]
        }
      ],
      "source": [
        "import tensorflow\n",
        "from tensorflow import keras\n",
        "from keras import Sequential\n",
        "from keras.layers import Dense"
      ]
    },
    {
      "cell_type": "code",
      "execution_count": 17,
      "metadata": {
        "id": "PKPetIe3Sc8g"
      },
      "outputs": [
        {
          "name": "stdout",
          "output_type": "stream",
          "text": [
            "WARNING:tensorflow:From c:\\Users\\HP\\AppData\\Local\\Programs\\Python\\Python311\\Lib\\site-packages\\keras\\src\\backend.py:873: The name tf.get_default_graph is deprecated. Please use tf.compat.v1.get_default_graph instead.\n",
            "\n"
          ]
        }
      ],
      "source": [
        "model = Sequential()"
      ]
    },
    {
      "cell_type": "code",
      "execution_count": 18,
      "metadata": {
        "id": "vxgkX7_IShSY"
      },
      "outputs": [],
      "source": [
        "model.add(Dense(7, activation='relu', input_dim=8))\n",
        "model.add(Dense(7, activation='linear'))\n",
        "model.add(Dense(1, activation='linear'))"
      ]
    },
    {
      "cell_type": "code",
      "execution_count": 19,
      "metadata": {
        "colab": {
          "base_uri": "https://localhost:8080/"
        },
        "id": "0YNJQNtCS0Au",
        "outputId": "da5c88f5-837d-4f17-c2c5-940bf55eadb3"
      },
      "outputs": [
        {
          "name": "stdout",
          "output_type": "stream",
          "text": [
            "Model: \"sequential\"\n",
            "_________________________________________________________________\n",
            " Layer (type)                Output Shape              Param #   \n",
            "=================================================================\n",
            " dense (Dense)               (None, 7)                 63        \n",
            "                                                                 \n",
            " dense_1 (Dense)             (None, 7)                 56        \n",
            "                                                                 \n",
            " dense_2 (Dense)             (None, 1)                 8         \n",
            "                                                                 \n",
            "=================================================================\n",
            "Total params: 127 (508.00 Byte)\n",
            "Trainable params: 127 (508.00 Byte)\n",
            "Non-trainable params: 0 (0.00 Byte)\n",
            "_________________________________________________________________\n"
          ]
        }
      ],
      "source": [
        "model.summary()"
      ]
    },
    {
      "cell_type": "code",
      "execution_count": 20,
      "metadata": {
        "id": "wXeOyAi2S1Xk"
      },
      "outputs": [
        {
          "name": "stdout",
          "output_type": "stream",
          "text": [
            "WARNING:tensorflow:From c:\\Users\\HP\\AppData\\Local\\Programs\\Python\\Python311\\Lib\\site-packages\\keras\\src\\optimizers\\__init__.py:309: The name tf.train.Optimizer is deprecated. Please use tf.compat.v1.train.Optimizer instead.\n",
            "\n"
          ]
        }
      ],
      "source": [
        "model.compile(optimizer='adam', loss='mean_squared_error')"
      ]
    },
    {
      "cell_type": "code",
      "execution_count": 21,
      "metadata": {
        "colab": {
          "base_uri": "https://localhost:8080/"
        },
        "id": "0VcNpBK0TcST",
        "outputId": "1fc105fb-27ce-4f2b-b228-da735e7ad91f"
      },
      "outputs": [
        {
          "name": "stdout",
          "output_type": "stream",
          "text": [
            "Epoch 1/100\n",
            "WARNING:tensorflow:From c:\\Users\\HP\\AppData\\Local\\Programs\\Python\\Python311\\Lib\\site-packages\\keras\\src\\utils\\tf_utils.py:492: The name tf.ragged.RaggedTensorValue is deprecated. Please use tf.compat.v1.ragged.RaggedTensorValue instead.\n",
            "\n",
            "8/8 [==============================] - 4s 122ms/step - loss: 0.7057 - val_loss: 0.6250\n",
            "Epoch 2/100\n",
            "8/8 [==============================] - 0s 19ms/step - loss: 0.5143 - val_loss: 0.4459\n",
            "Epoch 3/100\n",
            "8/8 [==============================] - 0s 17ms/step - loss: 0.3565 - val_loss: 0.3017\n",
            "Epoch 4/100\n",
            "8/8 [==============================] - 0s 19ms/step - loss: 0.2340 - val_loss: 0.1872\n",
            "Epoch 5/100\n",
            "8/8 [==============================] - 0s 17ms/step - loss: 0.1406 - val_loss: 0.1042\n",
            "Epoch 6/100\n",
            "8/8 [==============================] - 0s 17ms/step - loss: 0.0769 - val_loss: 0.0525\n",
            "Epoch 7/100\n",
            "8/8 [==============================] - 0s 19ms/step - loss: 0.0414 - val_loss: 0.0274\n",
            "Epoch 8/100\n",
            "8/8 [==============================] - 0s 24ms/step - loss: 0.0274 - val_loss: 0.0192\n",
            "Epoch 9/100\n",
            "8/8 [==============================] - 0s 21ms/step - loss: 0.0233 - val_loss: 0.0169\n",
            "Epoch 10/100\n",
            "8/8 [==============================] - 0s 17ms/step - loss: 0.0214 - val_loss: 0.0153\n",
            "Epoch 11/100\n",
            "8/8 [==============================] - 0s 19ms/step - loss: 0.0192 - val_loss: 0.0135\n",
            "Epoch 12/100\n",
            "8/8 [==============================] - 0s 19ms/step - loss: 0.0170 - val_loss: 0.0121\n",
            "Epoch 13/100\n",
            "8/8 [==============================] - 0s 50ms/step - loss: 0.0150 - val_loss: 0.0111\n",
            "Epoch 14/100\n",
            "8/8 [==============================] - 0s 21ms/step - loss: 0.0137 - val_loss: 0.0101\n",
            "Epoch 15/100\n",
            "8/8 [==============================] - 0s 17ms/step - loss: 0.0125 - val_loss: 0.0094\n",
            "Epoch 16/100\n",
            "8/8 [==============================] - 0s 17ms/step - loss: 0.0116 - val_loss: 0.0087\n",
            "Epoch 17/100\n",
            "8/8 [==============================] - 0s 26ms/step - loss: 0.0107 - val_loss: 0.0082\n",
            "Epoch 18/100\n",
            "8/8 [==============================] - 0s 19ms/step - loss: 0.0101 - val_loss: 0.0078\n",
            "Epoch 19/100\n",
            "8/8 [==============================] - 0s 17ms/step - loss: 0.0095 - val_loss: 0.0075\n",
            "Epoch 20/100\n",
            "8/8 [==============================] - 0s 19ms/step - loss: 0.0090 - val_loss: 0.0072\n",
            "Epoch 21/100\n",
            "8/8 [==============================] - 0s 19ms/step - loss: 0.0086 - val_loss: 0.0069\n",
            "Epoch 22/100\n",
            "8/8 [==============================] - 0s 19ms/step - loss: 0.0081 - val_loss: 0.0067\n",
            "Epoch 23/100\n",
            "8/8 [==============================] - 0s 19ms/step - loss: 0.0079 - val_loss: 0.0065\n",
            "Epoch 24/100\n",
            "8/8 [==============================] - 0s 17ms/step - loss: 0.0075 - val_loss: 0.0063\n",
            "Epoch 25/100\n",
            "8/8 [==============================] - 0s 19ms/step - loss: 0.0072 - val_loss: 0.0061\n",
            "Epoch 26/100\n",
            "8/8 [==============================] - 0s 19ms/step - loss: 0.0070 - val_loss: 0.0059\n",
            "Epoch 27/100\n",
            "8/8 [==============================] - 0s 21ms/step - loss: 0.0068 - val_loss: 0.0058\n",
            "Epoch 28/100\n",
            "8/8 [==============================] - 0s 19ms/step - loss: 0.0066 - val_loss: 0.0057\n",
            "Epoch 29/100\n",
            "8/8 [==============================] - 0s 19ms/step - loss: 0.0064 - val_loss: 0.0055\n",
            "Epoch 30/100\n",
            "8/8 [==============================] - 0s 16ms/step - loss: 0.0063 - val_loss: 0.0054\n",
            "Epoch 31/100\n",
            "8/8 [==============================] - 0s 19ms/step - loss: 0.0061 - val_loss: 0.0053\n",
            "Epoch 32/100\n",
            "8/8 [==============================] - 0s 17ms/step - loss: 0.0060 - val_loss: 0.0053\n",
            "Epoch 33/100\n",
            "8/8 [==============================] - 0s 17ms/step - loss: 0.0058 - val_loss: 0.0052\n",
            "Epoch 34/100\n",
            "8/8 [==============================] - 0s 33ms/step - loss: 0.0057 - val_loss: 0.0051\n",
            "Epoch 35/100\n",
            "8/8 [==============================] - 0s 17ms/step - loss: 0.0056 - val_loss: 0.0050\n",
            "Epoch 36/100\n",
            "8/8 [==============================] - 0s 19ms/step - loss: 0.0055 - val_loss: 0.0049\n",
            "Epoch 37/100\n",
            "8/8 [==============================] - 0s 21ms/step - loss: 0.0054 - val_loss: 0.0048\n",
            "Epoch 38/100\n",
            "8/8 [==============================] - 0s 20ms/step - loss: 0.0053 - val_loss: 0.0047\n",
            "Epoch 39/100\n",
            "8/8 [==============================] - 0s 17ms/step - loss: 0.0052 - val_loss: 0.0047\n",
            "Epoch 40/100\n",
            "8/8 [==============================] - 0s 19ms/step - loss: 0.0051 - val_loss: 0.0046\n",
            "Epoch 41/100\n",
            "8/8 [==============================] - 0s 17ms/step - loss: 0.0050 - val_loss: 0.0045\n",
            "Epoch 42/100\n",
            "8/8 [==============================] - 0s 17ms/step - loss: 0.0049 - val_loss: 0.0045\n",
            "Epoch 43/100\n",
            "8/8 [==============================] - 0s 17ms/step - loss: 0.0049 - val_loss: 0.0044\n",
            "Epoch 44/100\n",
            "8/8 [==============================] - 0s 16ms/step - loss: 0.0048 - val_loss: 0.0043\n",
            "Epoch 45/100\n",
            "8/8 [==============================] - 0s 17ms/step - loss: 0.0047 - val_loss: 0.0043\n",
            "Epoch 46/100\n",
            "8/8 [==============================] - 0s 17ms/step - loss: 0.0047 - val_loss: 0.0042\n",
            "Epoch 47/100\n",
            "8/8 [==============================] - 0s 18ms/step - loss: 0.0046 - val_loss: 0.0042\n",
            "Epoch 48/100\n",
            "8/8 [==============================] - 0s 17ms/step - loss: 0.0046 - val_loss: 0.0041\n",
            "Epoch 49/100\n",
            "8/8 [==============================] - 0s 19ms/step - loss: 0.0045 - val_loss: 0.0041\n",
            "Epoch 50/100\n",
            "8/8 [==============================] - 0s 17ms/step - loss: 0.0045 - val_loss: 0.0040\n",
            "Epoch 51/100\n",
            "8/8 [==============================] - 0s 20ms/step - loss: 0.0044 - val_loss: 0.0040\n",
            "Epoch 52/100\n",
            "8/8 [==============================] - 0s 17ms/step - loss: 0.0043 - val_loss: 0.0039\n",
            "Epoch 53/100\n",
            "8/8 [==============================] - 0s 19ms/step - loss: 0.0043 - val_loss: 0.0039\n",
            "Epoch 54/100\n",
            "8/8 [==============================] - 0s 17ms/step - loss: 0.0043 - val_loss: 0.0039\n",
            "Epoch 55/100\n",
            "8/8 [==============================] - 0s 31ms/step - loss: 0.0042 - val_loss: 0.0038\n",
            "Epoch 56/100\n",
            "8/8 [==============================] - 0s 19ms/step - loss: 0.0042 - val_loss: 0.0038\n",
            "Epoch 57/100\n",
            "8/8 [==============================] - 0s 19ms/step - loss: 0.0041 - val_loss: 0.0038\n",
            "Epoch 58/100\n",
            "8/8 [==============================] - 0s 19ms/step - loss: 0.0041 - val_loss: 0.0037\n",
            "Epoch 59/100\n",
            "8/8 [==============================] - 0s 17ms/step - loss: 0.0041 - val_loss: 0.0037\n",
            "Epoch 60/100\n",
            "8/8 [==============================] - 0s 18ms/step - loss: 0.0040 - val_loss: 0.0037\n",
            "Epoch 61/100\n",
            "8/8 [==============================] - 0s 17ms/step - loss: 0.0040 - val_loss: 0.0036\n",
            "Epoch 62/100\n",
            "8/8 [==============================] - 0s 17ms/step - loss: 0.0040 - val_loss: 0.0036\n",
            "Epoch 63/100\n",
            "8/8 [==============================] - 0s 16ms/step - loss: 0.0040 - val_loss: 0.0036\n",
            "Epoch 64/100\n",
            "8/8 [==============================] - 0s 17ms/step - loss: 0.0039 - val_loss: 0.0036\n",
            "Epoch 65/100\n",
            "8/8 [==============================] - 0s 19ms/step - loss: 0.0039 - val_loss: 0.0035\n",
            "Epoch 66/100\n",
            "8/8 [==============================] - 0s 17ms/step - loss: 0.0039 - val_loss: 0.0035\n",
            "Epoch 67/100\n",
            "8/8 [==============================] - 0s 19ms/step - loss: 0.0039 - val_loss: 0.0035\n",
            "Epoch 68/100\n",
            "8/8 [==============================] - 0s 18ms/step - loss: 0.0038 - val_loss: 0.0035\n",
            "Epoch 69/100\n",
            "8/8 [==============================] - 0s 17ms/step - loss: 0.0038 - val_loss: 0.0035\n",
            "Epoch 70/100\n",
            "8/8 [==============================] - 0s 19ms/step - loss: 0.0038 - val_loss: 0.0035\n",
            "Epoch 71/100\n",
            "8/8 [==============================] - 0s 16ms/step - loss: 0.0038 - val_loss: 0.0034\n",
            "Epoch 72/100\n",
            "8/8 [==============================] - 0s 17ms/step - loss: 0.0038 - val_loss: 0.0034\n",
            "Epoch 73/100\n",
            "8/8 [==============================] - 0s 20ms/step - loss: 0.0037 - val_loss: 0.0034\n",
            "Epoch 74/100\n",
            "8/8 [==============================] - 0s 17ms/step - loss: 0.0037 - val_loss: 0.0034\n",
            "Epoch 75/100\n",
            "8/8 [==============================] - 0s 17ms/step - loss: 0.0037 - val_loss: 0.0034\n",
            "Epoch 76/100\n",
            "8/8 [==============================] - 0s 33ms/step - loss: 0.0037 - val_loss: 0.0033\n",
            "Epoch 77/100\n",
            "8/8 [==============================] - 0s 17ms/step - loss: 0.0037 - val_loss: 0.0033\n",
            "Epoch 78/100\n",
            "8/8 [==============================] - 0s 17ms/step - loss: 0.0037 - val_loss: 0.0034\n",
            "Epoch 79/100\n",
            "8/8 [==============================] - 0s 18ms/step - loss: 0.0036 - val_loss: 0.0033\n",
            "Epoch 80/100\n",
            "8/8 [==============================] - 0s 19ms/step - loss: 0.0036 - val_loss: 0.0033\n",
            "Epoch 81/100\n",
            "8/8 [==============================] - 0s 18ms/step - loss: 0.0036 - val_loss: 0.0033\n",
            "Epoch 82/100\n",
            "8/8 [==============================] - 0s 17ms/step - loss: 0.0036 - val_loss: 0.0033\n",
            "Epoch 83/100\n",
            "8/8 [==============================] - 0s 19ms/step - loss: 0.0036 - val_loss: 0.0033\n",
            "Epoch 84/100\n",
            "8/8 [==============================] - 0s 16ms/step - loss: 0.0036 - val_loss: 0.0033\n",
            "Epoch 85/100\n",
            "8/8 [==============================] - 0s 19ms/step - loss: 0.0036 - val_loss: 0.0033\n",
            "Epoch 86/100\n",
            "8/8 [==============================] - 0s 19ms/step - loss: 0.0036 - val_loss: 0.0032\n",
            "Epoch 87/100\n",
            "8/8 [==============================] - 0s 17ms/step - loss: 0.0036 - val_loss: 0.0032\n",
            "Epoch 88/100\n",
            "8/8 [==============================] - 0s 17ms/step - loss: 0.0035 - val_loss: 0.0033\n",
            "Epoch 89/100\n",
            "8/8 [==============================] - 0s 19ms/step - loss: 0.0035 - val_loss: 0.0033\n",
            "Epoch 90/100\n",
            "8/8 [==============================] - 0s 17ms/step - loss: 0.0035 - val_loss: 0.0032\n",
            "Epoch 91/100\n",
            "8/8 [==============================] - 0s 19ms/step - loss: 0.0035 - val_loss: 0.0032\n",
            "Epoch 92/100\n",
            "8/8 [==============================] - 0s 17ms/step - loss: 0.0035 - val_loss: 0.0032\n",
            "Epoch 93/100\n",
            "8/8 [==============================] - 0s 17ms/step - loss: 0.0035 - val_loss: 0.0032\n",
            "Epoch 94/100\n",
            "8/8 [==============================] - 0s 17ms/step - loss: 0.0035 - val_loss: 0.0032\n",
            "Epoch 95/100\n",
            "8/8 [==============================] - 0s 36ms/step - loss: 0.0035 - val_loss: 0.0032\n",
            "Epoch 96/100\n",
            "8/8 [==============================] - 0s 17ms/step - loss: 0.0035 - val_loss: 0.0032\n",
            "Epoch 97/100\n",
            "8/8 [==============================] - 0s 17ms/step - loss: 0.0035 - val_loss: 0.0032\n",
            "Epoch 98/100\n",
            "8/8 [==============================] - 0s 17ms/step - loss: 0.0034 - val_loss: 0.0032\n",
            "Epoch 99/100\n",
            "8/8 [==============================] - 0s 18ms/step - loss: 0.0034 - val_loss: 0.0032\n",
            "Epoch 100/100\n",
            "8/8 [==============================] - 0s 19ms/step - loss: 0.0034 - val_loss: 0.0032\n"
          ]
        }
      ],
      "source": [
        "history = model.fit(x_train_scaled,y_train, epochs=100,validation_split=0.2)"
      ]
    },
    {
      "cell_type": "code",
      "execution_count": 22,
      "metadata": {
        "colab": {
          "base_uri": "https://localhost:8080/"
        },
        "id": "jbEVoaayTxe8",
        "outputId": "3addb4ee-d309-4019-9266-ce71eae3f07f"
      },
      "outputs": [
        {
          "name": "stdout",
          "output_type": "stream",
          "text": [
            "3/3 [==============================] - 0s 8ms/step\n"
          ]
        }
      ],
      "source": [
        "y_pred=model.predict(x_test_scaled)"
      ]
    },
    {
      "cell_type": "code",
      "execution_count": 23,
      "metadata": {
        "colab": {
          "base_uri": "https://localhost:8080/"
        },
        "id": "rdPsRXsPWd3q",
        "outputId": "d8bae691-2e9b-4981-b254-2cbabd3f81f7"
      },
      "outputs": [
        {
          "data": {
            "text/plain": [
              "72.5358269044703"
            ]
          },
          "execution_count": 23,
          "metadata": {},
          "output_type": "execute_result"
        }
      ],
      "source": [
        "from sklearn.metrics import r2_score, mean_squared_error\n",
        "r2_score(y_test,y_pred)*100"
      ]
    },
    {
      "cell_type": "code",
      "execution_count": 24,
      "metadata": {
        "colab": {
          "base_uri": "https://localhost:8080/",
          "height": 447
        },
        "id": "WLuj_iv3Zy6g",
        "outputId": "161007e5-dd2e-4615-e050-d3bc8e42b54b"
      },
      "outputs": [
        {
          "data": {
            "text/plain": [
              "[<matplotlib.lines.Line2D at 0x2372f820310>]"
            ]
          },
          "execution_count": 24,
          "metadata": {},
          "output_type": "execute_result"
        },
        {
          "data": {
            "image/png": "[encoded data removed]",
            "text/plain": [
              "<Figure size 640x480 with 1 Axes>"
            ]
          },
          "metadata": {},
          "output_type": "display_data"
        }
      ],
      "source": [
        "import matplotlib.pyplot as plt\n",
        "plt.plot(history.history['loss'])\n",
        "plt.plot(history.history['val_loss'])"
      ]
    },
    {
      "cell_type": "code",
      "execution_count": null,
      "metadata": {
        "id": "zcnDJAE1bCBB"
      },
      "outputs": [],
      "source": []
    }
  ],
  "metadata": {
    "colab": {
      "provenance": []
    },
    "kernelspec": {
      "display_name": "Python 3",
      "name": "python3"
    },
    "language_info": {
      "codemirror_mode": {
        "name": "ipython",
        "version": 3
      },
      "file_extension": ".py",
      "mimetype": "text/x-python",
      "name": "python",
      "nbconvert_exporter": "python",
      "pygments_lexer": "ipython3",
      "version": "3.11.0"
    }
  },
  "nbformat": 4,
  "nbformat_minor": 0
}
